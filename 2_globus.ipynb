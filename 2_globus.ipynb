{
 "cells": [
  {
   "cell_type": "markdown",
   "metadata": {},
   "source": [
    "# Copy Datasets Using Globus\n",
    "\n",
    "\n",
    "Each attendee has access to their own Guest Collection, which is a shared endpoint that can be used to host and share data.\n"
   ]
  },
  {
   "cell_type": "markdown",
   "metadata": {},
   "source": [
    "**TODO**\n",
    "\n",
    "* Explain how to login\n",
    "* Explain how to find the Guest Collection"
   ]
  },
  {
   "cell_type": "markdown",
   "metadata": {},
   "source": [
    "Specify the UUID of your Guest Collection in `my_collection_uuid`\n",
    "\n",
    "For this tutorial, we assume you're putting all of the datasets under a single folder. This isn't necessary, it just makes things easier.\n",
    "\n",
    "Define your collection's base folder using the `my_collection_folder` variable. Reasonable names include \"datasets\", \"data\", or \"repository\". These forlder names are just for hierachical organization."
   ]
  },
  {
   "cell_type": "code",
   "execution_count": null,
   "metadata": {},
   "outputs": [],
   "source": [
    "%cd cheapandfair-template/"
   ]
  },
  {
   "cell_type": "code",
   "execution_count": 8,
   "metadata": {},
   "outputs": [],
   "source": [
    "import globus_utils"
   ]
  },
  {
   "cell_type": "code",
   "execution_count": null,
   "metadata": {},
   "outputs": [],
   "source": [
    "%%file config.toml\n",
    "# The following refer to the destination collection, where the data will be copied to and that will serve as backend for the data portal\n",
    "UUID='18ed636e-0389-44c3-b533-cb3901dfc60f'\n",
    "FOLDER='/myfolder3/'\n",
    "DOMAIN='g-1926f5.c2d0f8.bd7c.data.globus.org'\n",
    "# collection of the source data, during the tutorial this is the \"Cheap and FAIR Tutorial Datasets\" collection\n",
    "SOURCE_UUID='7352d991-b0a0-49a2-830c-e8fe8c968ca2'\n",
    "SOURCE_FOLDER='/public/datasets/'"
   ]
  },
  {
   "cell_type": "markdown",
   "metadata": {},
   "source": [
    "We copy the dataset by providing the name of the dataset, the UUID of the destination Guest Collection, and the folder we want it copied to.\n",
    "\n",
    "The method will return the base URL of the Guest Collection and the manifest of the files that were copied. The URL returned will be the same for each of the datasets we copy because they're all going to the same Guest Collection. The method will also write a copy of the manifest to the local directory named `<dataset>-manifest.json`."
   ]
  },
  {
   "cell_type": "markdown",
   "metadata": {},
   "source": [
    "## Authenticate with Globus\n",
    "\n",
    "Login to Globus using the following command. This will open a browser window where you can login to Globus and receive a token to paste back into the notebook."
   ]
  },
  {
   "cell_type": "code",
   "execution_count": null,
   "metadata": {},
   "outputs": [],
   "source": [
    "copy_dataset.login();"
   ]
  },
  {
   "cell_type": "markdown",
   "metadata": {},
   "source": [
    "## Copy Datasets and create manifests\n",
    "\n",
    "Now we can copy the datasets from the source to the destination collection.\n",
    "This script will also create `manifests.json` files which contain the list of files and their checksums."
   ]
  },
  {
   "cell_type": "code",
   "execution_count": null,
   "metadata": {},
   "outputs": [],
   "source": [
    "cmb_manifest = copy_dataset.copydataset('cmb')"
   ]
  },
  {
   "cell_type": "markdown",
   "metadata": {},
   "source": [
    "Let's look at a couple of the entries in the file manifest."
   ]
  },
  {
   "cell_type": "code",
   "execution_count": null,
   "metadata": {},
   "outputs": [],
   "source": [
    "print(json.dumps(cmb_manifest[:2], indent=2))"
   ]
  },
  {
   "cell_type": "markdown",
   "metadata": {},
   "source": [
    "Now we can copy the other two datasets. You won't need to login again because the tokens have been cached in `~/.cheapandfair.json`."
   ]
  },
  {
   "cell_type": "code",
   "execution_count": null,
   "metadata": {},
   "outputs": [],
   "source": [
    "dust_manifest = copy_dataset.copydataset('dust')\n",
    "synch_manifest = copy_dataset.copydataset('synch')"
   ]
  },
  {
   "cell_type": "markdown",
   "metadata": {},
   "source": [
    "We can see that the manifests were saved locally."
   ]
  },
  {
   "cell_type": "code",
   "execution_count": null,
   "metadata": {},
   "outputs": [],
   "source": [
    "!ls *.json"
   ]
  },
  {
   "cell_type": "markdown",
   "metadata": {},
   "source": [
    "TODO now that we have the datasets copied\n",
    "\n",
    "* Explain how to configure permissions on each folder\n"
   ]
  }
 ],
 "metadata": {
  "kernelspec": {
   "display_name": "globus",
   "language": "python",
   "name": "python3"
  },
  "language_info": {
   "codemirror_mode": {
    "name": "ipython",
    "version": 3
   },
   "file_extension": ".py",
   "mimetype": "text/x-python",
   "name": "python",
   "nbconvert_exporter": "python",
   "pygments_lexer": "ipython3",
   "version": "3.11.2"
  }
 },
 "nbformat": 4,
 "nbformat_minor": 4
}
