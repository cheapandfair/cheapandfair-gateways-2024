{
 "cells": [
  {
   "cell_type": "markdown",
   "metadata": {},
   "source": [
    "# Copy Datasets Using Globus\n",
    "\n",
    "\n",
    "Each attendee has access to their own Guest Collection, which is a shared endpoint that can be used to host and share data.\n"
   ]
  },
  {
   "cell_type": "markdown",
   "metadata": {},
   "source": [
    "* Explain how to login\n",
    "* Explain how to find the Guest Collection\n",
    "* Explain how to configure permissions on each folder"
   ]
  },
  {
   "cell_type": "markdown",
   "metadata": {},
   "source": [
    "Specify the UUID of your Guest Collection in `my_collection_uuid`\n",
    "\n",
    "For this tutorial, we assume you're putting all of the datasets under a single folder. This isn't necessary, it just makes things easier.\n",
    "\n",
    "Define your collection's base folder using the `my_collection_folder` variable. Reasonable names include \"datasets\", \"data\", or \"repository\". These forlder names are just for hierachical organization."
   ]
  },
  {
   "cell_type": "code",
   "execution_count": 22,
   "metadata": {},
   "outputs": [],
   "source": [
    "# Rick's example collection\n",
    "my_collection_uuid = '85017645-30ef-4519-abbb-a73811b914b7'\n",
    "my_collection_folder = '/datasets/'"
   ]
  },
  {
   "cell_type": "markdown",
   "metadata": {},
   "source": [
    "## Authenticate with Globus\n",
    "\n",
    "Use the Globus SDK to copy the examples datasets with Globus. When you first run the `copydataset` method you'll be prompted to login to Globus to get tokens to copy the data and upload the manifest of files for each dataset."
   ]
  },
  {
   "cell_type": "code",
   "execution_count": 23,
   "metadata": {},
   "outputs": [],
   "source": [
    "import json\n",
    "import copydataset"
   ]
  },
  {
   "cell_type": "markdown",
   "metadata": {},
   "source": [
    "We copy the dataset by providing the name of the dataset, the UUID of the destination Guest Collection, and the folder we want it copied to.\n",
    "\n",
    "The method will return the base URL of the Guest Collection and the manifest of the files that were copied. The URL returned will be the same for each of the datasets we copy because they're all going to the same Guest Collection. The method will also write a copy of the manifest to the local directory named `<dataset>-manifest.json`."
   ]
  },
  {
   "cell_type": "code",
   "execution_count": 24,
   "metadata": {},
   "outputs": [
    {
     "name": "stdout",
     "output_type": "stream",
     "text": [
      "Login Here:\n",
      "\n",
      "https://auth.globus.org/v2/oauth2/authorize?client_id=1dc53da9-4f45-43b2-b75f-54368fed256c&redirect_uri=https%3A%2F%2Fauth.globus.org%2Fv2%2Fweb%2Fauth-code&scope=urn%3Aglobus%3Aauth%3Ascope%3Atransfer.api.globus.org%3Aall+https%3A%2F%2Fauth.globus.org%2Fscopes%2F85017645-30ef-4519-abbb-a73811b914b7%2Fhttps&state=_default&response_type=code&code_challenge=NYx1o56wKYLSaueLtErFYErccMjR2se4rwRtLQkJkec&code_challenge_method=S256&access_type=online\n"
     ]
    },
    {
     "name": "stdin",
     "output_type": "stream",
     "text": [
      "Please enter the code you get after login here:  Wa9JSTPFYyExlqg5Vdrtn2DF3ftvlj\n"
     ]
    },
    {
     "name": "stdout",
     "output_type": "stream",
     "text": [
      "\n",
      "The base URL of collection 85017645-30ef-4519-abbb-a73811b914b7 is https://g-053b28.c2d0f8.bd7c.data.globus.org\n",
      "\n",
      "Waiting for 14191da8-7ac4-11ef-91c0-f95c6daa0003 to complete copying the data\n",
      "Task has finished, creating the manifest\n",
      "\n",
      "Uploading (HTTP PUT) manifest.json to https://g-053b28.c2d0f8.bd7c.data.globus.org/datasets/cmb/manifest.json\n",
      "manfiest PUT to https://g-053b28.c2d0f8.bd7c.data.globus.org/datasets/cmb/manifest.json with status 200\n",
      "Manifest file info (HTTP HEAD):\n",
      "\tContent-Length: 2747\n",
      "\tContent-Type: application/json\n",
      "\n",
      "A copy of the manifest has been stored locally as cmb-manifest.json\n"
     ]
    }
   ],
   "source": [
    "url, cmb_manifest = copydataset.copydataset('cmb', my_collection_uuid, my_collection_folder)"
   ]
  },
  {
   "cell_type": "markdown",
   "metadata": {},
   "source": [
    "The URL returned is the base URL of your Guest Collection. This will be used later."
   ]
  },
  {
   "cell_type": "code",
   "execution_count": 25,
   "metadata": {},
   "outputs": [
    {
     "name": "stdout",
     "output_type": "stream",
     "text": [
      "https://g-053b28.c2d0f8.bd7c.data.globus.org\n"
     ]
    }
   ],
   "source": [
    "print(url)"
   ]
  },
  {
   "cell_type": "markdown",
   "metadata": {},
   "source": [
    "Let's look at a couple of the entries in the file manifest."
   ]
  },
  {
   "cell_type": "code",
   "execution_count": 26,
   "metadata": {},
   "outputs": [
    {
     "name": "stdout",
     "output_type": "stream",
     "text": [
      "[\n",
      "  {\n",
      "    \"filename\": \"cmb_023GHz.fits\",\n",
      "    \"length\": 2367360,\n",
      "    \"url\": \"https://g-053b28.c2d0f8.bd7c.data.globus.org/datasets/cmb/cmb_023GHz.fits\",\n",
      "    \"sha256\": \"fc7036188f700f8c420fcb5ca59b6ef20e64d0030c276902b705db984d8ca93f\"\n",
      "  },\n",
      "  {\n",
      "    \"filename\": \"cmb_100GHz.fits\",\n",
      "    \"length\": 2367360,\n",
      "    \"url\": \"https://g-053b28.c2d0f8.bd7c.data.globus.org/datasets/cmb/cmb_100GHz.fits\",\n",
      "    \"sha256\": \"fc7036188f700f8c420fcb5ca59b6ef20e64d0030c276902b705db984d8ca93f\"\n",
      "  }\n",
      "]\n"
     ]
    }
   ],
   "source": [
    "print(json.dumps(manifest[:2], indent=2))"
   ]
  },
  {
   "cell_type": "markdown",
   "metadata": {},
   "source": [
    "Now we can copy the other two datasets. You won't need to login again because the tokens have been cached in `~/.cheapandfair.json`."
   ]
  },
  {
   "cell_type": "code",
   "execution_count": 27,
   "metadata": {},
   "outputs": [
    {
     "name": "stdout",
     "output_type": "stream",
     "text": [
      "The base URL of collection 85017645-30ef-4519-abbb-a73811b914b7 is https://g-053b28.c2d0f8.bd7c.data.globus.org\n",
      "\n",
      "Waiting for 248bf8cc-7ac4-11ef-b35e-a1206a7ee65f to complete copying the data\n",
      "Task has finished, creating the manifest\n",
      "\n",
      "Uploading (HTTP PUT) manifest.json to https://g-053b28.c2d0f8.bd7c.data.globus.org/datasets/dust/manifest.json\n",
      "manfiest PUT to https://g-053b28.c2d0f8.bd7c.data.globus.org/datasets/dust/manifest.json with status 200\n",
      "Manifest file info (HTTP HEAD):\n",
      "\tContent-Length: 2580\n",
      "\tContent-Type: application/json\n",
      "\n",
      "A copy of the manifest has been stored locally as dust-manifest.json\n",
      "The base URL of collection 85017645-30ef-4519-abbb-a73811b914b7 is https://g-053b28.c2d0f8.bd7c.data.globus.org\n",
      "\n",
      "Waiting for 2c0be6f2-7ac4-11ef-b6c6-6d7d1acfb36d to complete copying the data\n",
      "Task has finished, creating the manifest\n",
      "\n",
      "Uploading (HTTP PUT) manifest.json to https://g-053b28.c2d0f8.bd7c.data.globus.org/datasets/synch/manifest.json\n",
      "manfiest PUT to https://g-053b28.c2d0f8.bd7c.data.globus.org/datasets/synch/manifest.json with status 200\n",
      "Manifest file info (HTTP HEAD):\n",
      "\tContent-Length: 2616\n",
      "\tContent-Type: application/json\n",
      "\n",
      "A copy of the manifest has been stored locally as synch-manifest.json\n"
     ]
    }
   ],
   "source": [
    "url, dust_manifest = copydataset.copydataset('dust', my_collection_uuid, my_collection_folder)\n",
    "url, synch_manifest = copydataset.copydataset('synch', my_collection_uuid, my_collection_folder)"
   ]
  },
  {
   "cell_type": "markdown",
   "metadata": {},
   "source": [
    "We can see that the manifests were saved locally."
   ]
  },
  {
   "cell_type": "code",
   "execution_count": 28,
   "metadata": {},
   "outputs": [
    {
     "name": "stdout",
     "output_type": "stream",
     "text": [
      "cmb-manifest.json   dust-manifest.json  synch-manifest.json\n"
     ]
    }
   ],
   "source": [
    "!ls *.json"
   ]
  },
  {
   "cell_type": "markdown",
   "metadata": {},
   "source": [
    "Finally let's save details about the endpoint in a file so that we can use it in the following steps, this includes the Guest Collection UUID, the domain for HTTPS access and the root folder of the datasets relative to the root of the Guest Collection.\n",
    "The file will be used both in bash script and in Python, make sure there are no spaces around the `=` sign:"
   ]
  },
  {
   "cell_type": "code",
   "execution_count": 30,
   "metadata": {},
   "outputs": [
    {
     "name": "stdout",
     "output_type": "stream",
     "text": [
      "[Errno 2] No such file or directory: 'cheapandfair-template/'\n",
      "/Users/rpwagner/tmp/cheapandfair-gateways-2024-rpwagner/cheapandfair-template\n"
     ]
    }
   ],
   "source": [
    "# We need to check the path on this, where will they be working? Should they cd to this directory earlier to save the manifests?\n",
    "%cd cheapandfair-template/"
   ]
  },
  {
   "cell_type": "code",
   "execution_count": 31,
   "metadata": {},
   "outputs": [],
   "source": [
    "with open('ENDPOINT.sh', 'w') as f:\n",
    "    f.write(f'UUID={my_collection_uuid}\\n')\n",
    "    f.write(f'FOLDER={my_collection_folder}\\n')\n",
    "    f.write(f'DOMAIN={url}\\n')"
   ]
  },
  {
   "cell_type": "code",
   "execution_count": 32,
   "metadata": {},
   "outputs": [
    {
     "name": "stdout",
     "output_type": "stream",
     "text": [
      "UUID=85017645-30ef-4519-abbb-a73811b914b7\n",
      "FOLDER=/datasets/\n",
      "DOMAIN=https://g-053b28.c2d0f8.bd7c.data.globus.org\n"
     ]
    }
   ],
   "source": [
    "!cat ENDPOINT.sh"
   ]
  },
  {
   "cell_type": "code",
   "execution_count": null,
   "metadata": {},
   "outputs": [],
   "source": []
  }
 ],
 "metadata": {
  "kernelspec": {
   "display_name": "Python 3 (ipykernel)",
   "language": "python",
   "name": "python3"
  },
  "language_info": {
   "codemirror_mode": {
    "name": "ipython",
    "version": 3
   },
   "file_extension": ".py",
   "mimetype": "text/x-python",
   "name": "python",
   "nbconvert_exporter": "python",
   "pygments_lexer": "ipython3",
   "version": "3.11.5"
  }
 },
 "nbformat": 4,
 "nbformat_minor": 4
}
