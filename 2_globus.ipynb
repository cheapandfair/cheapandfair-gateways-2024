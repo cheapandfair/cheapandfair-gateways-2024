{
 "cells": [
  {
   "cell_type": "markdown",
   "metadata": {},
   "source": [
    "# Copy Datasets Using Globus\n",
    "\n",
    "\n",
    "Each attendee has access to their own Guest Collection, which is a shared endpoint that can be used to host and share data.\n"
   ]
  },
  {
   "cell_type": "markdown",
   "metadata": {},
   "source": [
    "To start, execute the cell below to make sure you're in the correct working directory."
   ]
  },
  {
   "cell_type": "code",
   "execution_count": null,
   "metadata": {},
   "outputs": [],
   "source": [
    "import os\n",
    "current_folder = %pwd\n",
    "if current_folder != \"cheapandfair-template\":\n",
    "    %cd cheapandfair-template"
   ]
  },
  {
   "cell_type": "markdown",
   "metadata": {},
   "source": [
    "**TODO**\n",
    "\n",
    "* Explain how to login\n",
    "* Explain how to find the Guest Collection\n",
    "\n",
    "## Login to Globus\n",
    "\n",
    "Go to <a href=\"https://www.globus.org\" target=\"_blank\">globus.org</a>, click the \"Log In\" button on the top right of the page.\n",
    "\n",
    "<div>\n",
    "<img alt=\"Screenshot of the Globus landing page\" src=\"./img/globus-login.png\" style=\"width: 50%; height: 50%\" />\n",
    "</div>\n",
    "\n",
    "If you aren't currently logged in, select the \"Sign in with GitHub\" option. If you have an existing Globus account, read this guide on how to <a href=\"https://docs.globus.org/guides/tutorials/manage-identities/link-to-existing/\" target=\"_blank\">link your GitHub identity to your current Globus account</a>.\n",
    "\n",
    "<div>\n",
    "<img alt=\"Screenshot of selecting the identity provider\" src=\"./img/select-github.png\" style=\"width: 50%; height: 50%\" />\n",
    "</div>\n",
    "\n",
    "## Join the Cheap and FAIR Tutorial Users Globus Group\n",
    "\n",
    "Click this link: <a href=\"https://app.globus.org/groups/fad784e0-67dd-11ef-87ff-09715fb135c2/join\" target=\"_blank\">Cheap and FAIR Tutorial Users</a>.\n",
    "\n",
    "If you have multiple identities in your account, select your GitHub identity. If needed, enter your name and organization, and acknowledge the example Terms and Conditions.\n",
    "\n",
    "<div>\n",
    "<img alt=\"Screenshot of joining the Group\" src=\"./img/join-group.png\" style=\"width: 50%; height: 50%\" />\n",
    "</div>\n",
    "\n",
    "After you request to join the group it will be approved by the instructors.\n",
    "\n",
    "## Create a Group for Controlling Data Access\n",
    "\n",
    "While we're looking at Globus Groups, we'll create one to be used later to allow a limited set of users access some datasets.\n",
    "\n",
    "Go to the <a href=\"https://app.globus.org/groups\" target=\"_blank\">Globus Groups page</a> and click on the \"Create new group\" link on the top right of the page.\n",
    "\n",
    "<div>\n",
    "<img alt=\"Screenshot of the Globus Groups page\" src=\"./img/create-group.png\" style=\"width: 50%; height: 50%\" />\n",
    "</div>\n",
    "\n",
    "Define a name for your Group. Short and clear names are best. Check the box that users may request to request to join and we recommend that membership lists are restricted.\n",
    "\n",
    "<div>\n",
    "<img alt=\"Screenshot of creating a Globus Group\" src=\"./img/group-info.png\" style=\"width: 50%; height: 50%\" />\n",
    "</div>\n",
    "\n",
    "Once the Group is created you'll see an overview page for it. In the body of the page there's a UUID. Click the blue copy icon and paste it into the cell below to replace the `xxxx...` text beside `GROUP=` in the configuration file.\n",
    "\n",
    "<div>\n",
    "<img alt=\"Screenshot of a Globus Group overview page\" src=\"./img/group-page.png\" style=\"width: 50%; height: 50%\" />\n",
    "</div>"
   ]
  },
  {
   "cell_type": "code",
   "execution_count": null,
   "metadata": {},
   "outputs": [],
   "source": [
    "%%file config.toml\n",
    "# This is the UUID of the Globus Group you created at the beginning of this notebook\n",
    "GROUP='xxxxxxxxxxxxxxxxxxxxxxxxxxxxxxxxxxxx'"
   ]
  },
  {
   "cell_type": "markdown",
   "metadata": {},
   "source": [
    "## Finding Your Guest Collection\n",
    "\n",
    "You each have been granted the access manager role on a Globus Guest Collection. This allows you to read and write anywhere in the Collection, and to set permissions on folders in the Collection. The [Globus documentation](https://docs.globus.org/api/transfer/permissions/) has more on how the various roles and permissions work.\n",
    "\n",
    "To find your Collection, go to the Collections tab on the left side of the Globus webapp, or [click this link](https://app.globus.org/collections).\n",
    "\n",
    "<div>\n",
    "<img alt=\"Screenshot of a the Globus Collections button\" src=\"./img/collection-icon.png\"/>\n",
    "</div>\n",
    "\n",
    "Select the \"Shareable By You\" filter and look for one with the name \"Cheap and FAIR Tutorial Collection <animal name>\". In this example the animal name is \"Caribou\". Each Collection has a unique animal name.\n",
    "\n",
    "<div>\n",
    "<img alt=\"Screenshot of filtering Globus Collections\" src=\"./img/shareable.png\" style=\"width: 50%; height: 50%\" />\n",
    "</div>"
   ]
  },
  {
   "cell_type": "markdown",
   "metadata": {},
   "source": [
    "For this tutorial, we assume you're putting all of the datasets under a single folder. This isn't necessary, it just makes things easier.\n",
    "\n",
    "Modify the following cell and execute it to update the configuration file `config.toml`:\n",
    "\n",
    "`UUID` is the UUID of the Guest Collection. You can find this and the `DOMAIN` by navigating to the Guest Collection in the Globus web app and look at the settings page.\n",
    "\n",
    "<div>\n",
    "<img alt=\"Screenshot of a Globus Guest Collection overview\" src=\"./img/my-collection.png\" style=\"width: 50%; height: 50%\" />\n",
    "</div>\n",
    "\n",
    "\n",
    "The same variables are also needed for the Source Collection, which is the endpoint where the data is currently stored. These do not need to be modified for the purposes of this tutorial.\n",
    "\n",
    "Define your collection's base folder using the `FOLDER` variable. Reasonable names include \"datasets\", \"data\", or \"repository\". These forlder names are just for hierachical organization."
   ]
  },
  {
   "cell_type": "code",
   "execution_count": null,
   "metadata": {},
   "outputs": [],
   "source": [
    "import json\n",
    "import copy_dataset"
   ]
  },
  {
   "cell_type": "code",
   "execution_count": null,
   "metadata": {},
   "outputs": [],
   "source": [
    "%%file -a config.toml\n",
    "# The following refer to the destination collection, where the data will be copied to and that will serve as backend for the data portal\n",
    "UUID='02809c9e-1325-4fb2-8b99-fa9b072b2b64'\n",
    "FOLDER='/datasets/'\n",
    "DOMAIN='g-b0852d.c2d0f8.bd7c.data.globus.org'\n",
    "# collection of the source data, during the tutorial this is the \"Cheap and FAIR Tutorial Datasets\" collection\n",
    "SOURCE_UUID='7352d991-b0a0-49a2-830c-e8fe8c968ca2'\n",
    "SOURCE_FOLDER='/public/datasets/'"
   ]
  },
  {
   "cell_type": "markdown",
   "metadata": {},
   "source": [
    "## Authenticate with Globus\n",
    "\n",
    "Login to Globus using the following command. This will open a browser window where you can login to Globus and receive a token to paste back into the notebook."
   ]
  },
  {
   "cell_type": "code",
   "execution_count": null,
   "metadata": {},
   "outputs": [],
   "source": [
    "copy_dataset.login();"
   ]
  },
  {
   "cell_type": "markdown",
   "metadata": {},
   "source": [
    "## Copy Datasets and create manifests\n",
    "We copy the dataset by providing the name of the dataset, the UUID of the destination Guest Collection, and the folder we want it copied to.\n",
    "\n",
    "The method will return the manifest of the files that were copied and will also write a copy of the manifest to the local directory named `{dataset}-manifest.json`."
   ]
  },
  {
   "cell_type": "code",
   "execution_count": null,
   "metadata": {},
   "outputs": [],
   "source": [
    "cmb_manifest = copy_dataset.copydataset('cmb')"
   ]
  },
  {
   "cell_type": "markdown",
   "metadata": {},
   "source": [
    "Let's look at a couple of the entries in the file manifest."
   ]
  },
  {
   "cell_type": "code",
   "execution_count": null,
   "metadata": {},
   "outputs": [],
   "source": [
    "print(json.dumps(cmb_manifest[:2], indent=2))"
   ]
  },
  {
   "cell_type": "markdown",
   "metadata": {},
   "source": [
    "Now we can copy the other two datasets. You won't need to login again because the tokens have been cached in `~/.cheapandfair.json`."
   ]
  },
  {
   "cell_type": "code",
   "execution_count": null,
   "metadata": {},
   "outputs": [],
   "source": [
    "dust_manifest = copy_dataset.copydataset('dust')\n",
    "synch_manifest = copy_dataset.copydataset('synch')\n",
    "synch_manifest = copy_dataset.copydataset('cmb_spectra')\n",
    "synch_manifest = copy_dataset.copydataset('dust_synch_spectra')"
   ]
  },
  {
   "cell_type": "markdown",
   "metadata": {},
   "source": [
    "We can see that the manifests were saved locally."
   ]
  },
  {
   "cell_type": "code",
   "execution_count": null,
   "metadata": {},
   "outputs": [],
   "source": [
    "!ls *.json"
   ]
  },
  {
   "cell_type": "markdown",
   "metadata": {},
   "source": [
    "## Viewing your Data\n",
    "\n",
    "Let's look at your Collection and see how the datasets are arranged and then set permissions on the folders. Evaluate the next cell and click the link to see your Collection in the File Manager view."
   ]
  },
  {
   "cell_type": "code",
   "execution_count": null,
   "metadata": {},
   "outputs": [],
   "source": [
    "import toml\n",
    "config = toml.load(\"config.toml\")\n",
    "url = f'https://app.globus.org/file-manager?origin_id={config[\"UUID\"]}&two_pane=false'\n",
    "print(url)"
   ]
  },
  {
   "cell_type": "markdown",
   "metadata": {},
   "source": [
    "You should see a listing of the files and folders in your Collection. You can double click on the folder you specified earlier (e.g., `/datasets/`) and see each dataset folder.\n",
    "\n",
    "<div>\n",
    "<img alt=\"Screenshot of a Globus Collection file listing\" src=\"./img/caribou.png\" style=\"width: 50%; height: 50%\" />\n",
    "</div>\n",
    "\n",
    "If you go into a particular folder you can see files in it. Dataset folders can have subfolder, although these example datasets have files only in one folder.\n",
    "\n",
    "<div>\n",
    "<img alt=\"Screenshot of a Globus Collection file listing\" src=\"./img/caribou-cmb.png\" style=\"width: 50%; height: 50%\" />\n",
    "</div>\n",
    "\n"
   ]
  },
  {
   "cell_type": "markdown",
   "metadata": {},
   "source": [
    "## Setting Permissions\n",
    "\n",
    "Globus Guest Collections allow you to set permissions on a folder level. All of the subfolder inherit the permission of the higher level folder, so you be less restrictive on subfolders, but you cannot reduce access to a subfolder. This is why the SRDR model suggests that all datasets have a \"top\" folder, even if the dataset has subfolders. This way you can assign permissions on a per-dataset basis.\n",
    "\n",
    "To see and manage the permission on the Guest Collection, click the \"Permissions\" link in the File Manager.\n",
    "\n",
    "<div>\n",
    "<img alt=\"Screenshot of a Globus Collection file listing\" src=\"./img/permissions-button.png\" style=\"width: 50%; height: 50%\" />\n",
    "</div>\n",
    "\n",
    "The permissions page for each Collection has a consistent URL. You can also evaluate the cell below and click the link."
   ]
  },
  {
   "cell_type": "code",
   "execution_count": null,
   "metadata": {},
   "outputs": [],
   "source": [
    "perm_url = f'https://app.globus.org/file-manager/collections/{config[\"UUID\"]}/sharing'\n",
    "print(perm_url)"
   ]
  },
  {
   "cell_type": "markdown",
   "metadata": {},
   "source": [
    "In the permissions tab you can manage the permissions by clicking the \"Add Permissions -- Share With\" button on the right. You may need to provide another consent.\n",
    "\n",
    "<div>\n",
    "<img alt=\"Screenshot of a Globus Collection permission list\" src=\"./img/share-with.png\" style=\"width: 50%; height: 50%\" />\n",
    "</div>\n",
    "\n",
    "Again, the URL is consistent so you can use the cell below to create a link directly to the add permissions window."
   ]
  },
  {
   "cell_type": "code",
   "execution_count": null,
   "metadata": {},
   "outputs": [],
   "source": [
    "add_perm_url = f'https://app.globus.org/file-manager/collections/{config[\"UUID\"]}/sharing/create'\n",
    "print(add_perm_url)"
   ]
  },
  {
   "cell_type": "markdown",
   "metadata": {},
   "source": [
    "There are five datasets and you'll set permissions on each of them as follows:\n",
    "\n",
    "- `cmb`: Read-only by the Group you created\n",
    "- `cmb_spectra`: Read-only by the Group you created\n",
    "- `dust`: Read-only by the public (anonymous access)\n",
    "- `synch`: Read-only by the public (anonymous access)\n",
    "- `dust_synch_spectra`: Read-only by the public (anonymous access)\n",
    "\n",
    "Permissions can be managed using the Globus API via the Python and JavaScript SDKS, or using the Globus CLI. We're using the webapp user interface so that you have a way to quickly check the state of the permissions at all times.\n",
    "\n",
    "We'll start with the `cmb` dataset to show how to add read access by a Group.\n",
    "\n",
    "- Use the \"Browse\" button to select that folder.\n",
    "- Set the type of entity to share with \"group\".\n",
    "- Use the \"Select a Group\" button to choose your Group.\n",
    "- Click the \"Add Permission\" button at the bottom.\n",
    "- At the prompt, agree to add another permission.\n",
    "\n",
    "<div>\n",
    "<img alt=\"Screenshot of adding a permission to a Globus Collection\" src=\"./img/cmb-perms.png\" style=\"width: 50%; height: 50%\" />\n",
    "</div>\n",
    "\n",
    "Next, we'll make the `dust` dataset public.\n",
    "\n",
    "- Use the \"Browse\" button to select that folder.\n",
    "- Set the type of entity to share with \"public (anonymous)\".\n",
    "- Click the \"Add Permission\" button at the bottom.\n",
    "- At the prompt, agree to add another permission.\n",
    "\n",
    "<div>\n",
    "<img alt=\"Screenshot of adding a permission to a Globus Collection\" src=\"./img/dust-perms.png\" style=\"width: 50%; height: 50%\" />\n",
    "</div>\n",
    "\n",
    "Go through the other datasets and add permission according to the list above. When you're done, you can review the permissions on your datasets by checking the permission tab.\n",
    "\n",
    "<div>\n",
    "<img alt=\"Screenshot of a Globus Collection permission list\" src=\"./img/all-perms.png\" style=\"width: 50%; height: 50%\" />\n",
    "</div>\n",
    "\n",
    "You should have one permission line per dataset.\n",
    "\n",
    "If you need to you can remove permissions by deleting them. You can't edit a permission and if you move the data, the permissions don't follow it. "
   ]
  },
  {
   "cell_type": "code",
   "execution_count": null,
   "metadata": {},
   "outputs": [],
   "source": []
  }
 ],
 "metadata": {
  "kernelspec": {
   "display_name": "Python 3 (ipykernel)",
   "language": "python",
   "name": "python3"
  },
  "language_info": {
   "codemirror_mode": {
    "name": "ipython",
    "version": 3
   },
   "file_extension": ".py",
   "mimetype": "text/x-python",
   "name": "python",
   "nbconvert_exporter": "python",
   "pygments_lexer": "ipython3",
   "version": "3.11.5"
  }
 },
 "nbformat": 4,
 "nbformat_minor": 4
}
