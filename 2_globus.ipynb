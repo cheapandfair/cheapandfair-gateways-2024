{
 "cells": [
  {
   "cell_type": "markdown",
   "metadata": {},
   "source": [
    "# Copy Datasets Using Globus\n",
    "\n",
    "\n",
    "Each attendee has access to their own Guest Collection, which is a shared endpoint that can be used to host and share data.\n"
   ]
  },
  {
   "cell_type": "markdown",
   "metadata": {},
   "source": [
    "* Explain how to login\n",
    "* Explain how to find the Guest Collection\n",
    "* Explain how to configure permissions on each folder"
   ]
  },
  {
   "cell_type": "markdown",
   "metadata": {},
   "source": [
    "Specify the UUID of your Guest Collection in `my_collection_uuid`\n",
    "\n",
    "For this tutorial, we assume you're putting all of the datasets under a single folder. This isn't necessary, it just makes things easier.\n",
    "\n",
    "Define your collection's base folder using the `my_collection_folder` variable. Reasonable names include \"datasets\", \"data\", or \"repository\". These forlder names are just for hierachical organization."
   ]
  },
  {
   "cell_type": "code",
   "execution_count": null,
   "metadata": {},
   "outputs": [],
   "source": [
    "import json\n",
    "import copydataset"
   ]
  },
  {
   "cell_type": "code",
   "execution_count": null,
   "metadata": {},
   "outputs": [],
   "source": [
    "%cd cheapandfair-template/"
   ]
  },
  {
   "cell_type": "code",
   "execution_count": null,
   "metadata": {},
   "outputs": [],
   "source": [
    "%%file ENDPOINT.sh\n",
    "UUID='18ed636e-0389-44c3-b533-cb3901dfc60f'\n",
    "FOLDER='/myfolder/'\n",
    "DOMAIN='g-1926f5.c2d0f8.bd7c.data.globus.org'"
   ]
  },
  {
   "cell_type": "code",
   "execution_count": null,
   "metadata": {},
   "outputs": [],
   "source": [
    "import toml\n",
    "endpoint = toml.load(\"ENDPOINT.sh\")"
   ]
  },
  {
   "cell_type": "markdown",
   "metadata": {},
   "source": [
    "We copy the dataset by providing the name of the dataset, the UUID of the destination Guest Collection, and the folder we want it copied to.\n",
    "\n",
    "The method will return the base URL of the Guest Collection and the manifest of the files that were copied. The URL returned will be the same for each of the datasets we copy because they're all going to the same Guest Collection. The method will also write a copy of the manifest to the local directory named `<dataset>-manifest.json`."
   ]
  },
  {
   "cell_type": "markdown",
   "metadata": {},
   "source": [
    "## Authenticate with Globus\n",
    "\n",
    "Use the Globus SDK to copy the examples datasets with Globus. When you first run the `copydataset` method you'll be prompted to login to Globus to get tokens to copy the data and upload the manifest of files for each dataset."
   ]
  },
  {
   "cell_type": "code",
   "execution_count": null,
   "metadata": {},
   "outputs": [],
   "source": [
    "url, cmb_manifest = copydataset.copydataset('cmb', endpoint[\"UUID\"], endpoint[\"FOLDER\"])"
   ]
  },
  {
   "cell_type": "markdown",
   "metadata": {},
   "source": [
    "The URL returned is the base URL of your Guest Collection. This will be used later."
   ]
  },
  {
   "cell_type": "code",
   "execution_count": null,
   "metadata": {},
   "outputs": [],
   "source": [
    "print(url)"
   ]
  },
  {
   "cell_type": "markdown",
   "metadata": {},
   "source": [
    "Let's look at a couple of the entries in the file manifest."
   ]
  },
  {
   "cell_type": "code",
   "execution_count": null,
   "metadata": {},
   "outputs": [],
   "source": [
    "print(json.dumps(cmb_manifest[:2], indent=2))"
   ]
  },
  {
   "cell_type": "markdown",
   "metadata": {},
   "source": [
    "Now we can copy the other two datasets. You won't need to login again because the tokens have been cached in `~/.cheapandfair.json`."
   ]
  },
  {
   "cell_type": "code",
   "execution_count": null,
   "metadata": {},
   "outputs": [],
   "source": [
    "url, dust_manifest = copydataset.copydataset('dust',  endpoint[\"UUID\"], endpoint[\"FOLDER\"])\n",
    "url, synch_manifest = copydataset.copydataset('synch',  endpoint[\"UUID\"], endpoint[\"FOLDER\"])"
   ]
  },
  {
   "cell_type": "markdown",
   "metadata": {},
   "source": [
    "We can see that the manifests were saved locally."
   ]
  },
  {
   "cell_type": "code",
   "execution_count": null,
   "metadata": {},
   "outputs": [],
   "source": [
    "!ls *.json"
   ]
  },
  {
   "cell_type": "markdown",
   "metadata": {},
   "source": [
    "Finally let's save details about the endpoint in a file so that we can use it in the following steps, this includes the Guest Collection UUID, the domain for HTTPS access and the root folder of the datasets relative to the root of the Guest Collection.\n",
    "The file will be used both in bash script and in Python, make sure there are no spaces around the `=` sign:"
   ]
  }
 ],
 "metadata": {
  "kernelspec": {
   "display_name": "Python 3 (ipykernel)",
   "language": "python",
   "name": "python3"
  },
  "language_info": {
   "codemirror_mode": {
    "name": "ipython",
    "version": 3
   },
   "file_extension": ".py",
   "mimetype": "text/x-python",
   "name": "python",
   "nbconvert_exporter": "python",
   "pygments_lexer": "ipython3",
   "version": "3.11.5"
  }
 },
 "nbformat": 4,
 "nbformat_minor": 4
}
