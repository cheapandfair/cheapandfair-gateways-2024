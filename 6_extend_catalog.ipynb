{
 "cells": [
  {
   "cell_type": "markdown",
   "metadata": {},
   "source": [
    "# Enhancing the catalog\n",
    "\n",
    "A static website doesn't rely on a server to generate the content, however it can still be interactive by relying on client-side Javascript.\n",
    "\n",
    "## Visualization page with Pyodide\n",
    "\n",
    "For scientific developers it is generally easier to use Python instead of Javascript.\n",
    "[Pyodide](https://pyodide.org/) is a project that allows to run Python code in the browser. It also allows to install Python packages previously converted to WebAssembly.\n",
    "\n",
    "In this example we will use the Python package `healpy` and `matplotlib` to create an interactive visualization of a sky map.\n",
    "\n",
    "The website template already contains a page which includes the code necessary to display a map, see the `view.md` file.\n",
    "\n",
    "It takes the full url to the input FITS file as a query parameter in the url, i.e. `view.html?url=https://url/to/your/file.fits`, however notice that the url needs to be urlencoded."
   ]
  },
  {
   "cell_type": "code",
   "execution_count": null,
   "metadata": {},
   "outputs": [],
   "source": [
    "import os\n",
    "current_folder = %pwd\n",
    "if not current_folder.endswith(\"cheapandfair-template\"):\n",
    "    %cd cheapandfair-template"
   ]
  },
  {
   "cell_type": "code",
   "execution_count": null,
   "metadata": {},
   "outputs": [],
   "source": [
    "import toml\n",
    "config = toml.load(\"config.toml\")\n",
    "url = f'https://{config[\"DOMAIN\"]}{config[\"FOLDER\"]}dust/dust_353GHz.fits'\n",
    "print(url)"
   ]
  },
  {
   "cell_type": "code",
   "execution_count": null,
   "metadata": {},
   "outputs": [],
   "source": [
    "import os\n",
    "github_username = os.environ[\"JUPYTERHUB_CLIENT_ID\"].replace(\"jupyterhub-user-\", \"\")"
   ]
  },
  {
   "cell_type": "code",
   "execution_count": null,
   "metadata": {},
   "outputs": [],
   "source": [
    "github_username"
   ]
  },
  {
   "cell_type": "code",
   "execution_count": null,
   "metadata": {},
   "outputs": [],
   "source": [
    "from urllib.parse import urlencode\n",
    "params = {'url': url}\n",
    "encoded_url = f\"https://{github_username}.github.io/cheapandfair-template/view.html?\" + urlencode(params)\n",
    "print(encoded_url)"
   ]
  },
  {
   "cell_type": "markdown",
   "metadata": {},
   "source": [
    "It takes a few seconds to load the Python packages, but once they are loaded the map is displayed.\n",
    "We could add these links to the catalog, so that users could easily visualize the maps. The easiest way would be to modify the `create_markdown.py` script."
   ]
  },
  {
   "cell_type": "markdown",
   "metadata": {},
   "source": [
    "## Visualization with JavaScript\n",
    "\n",
    "There are many JavaScript graphics libraries available, including [Chart.js](https://www.chartjs.org), [plotly](https://plotly.com), and [D3](https://d3js.org). Research groups with front end developers may want to incorporate JavaScript-based plots into their data portals.\n",
    "\n",
    "This example uses [Chart.js](https://www.chartjs.org) to create a simple line chart from a CSV file in one of your public datasets. The page takes the parameter `csv`, e.g.,\n",
    "```\n",
    "chart.html?csv=https://example.org/sample.csv\n",
    "```\n",
    "where `https://example.org/sample.csv` is URL encoded like the previous example."
   ]
  },
  {
   "cell_type": "code",
   "execution_count": null,
   "metadata": {},
   "outputs": [],
   "source": [
    "csv_url = f'https://{config[\"DOMAIN\"]}{config[\"FOLDER\"]}dust_synch_spectra/cls_dust.csv'\n",
    "print(csv_url)"
   ]
  },
  {
   "cell_type": "code",
   "execution_count": null,
   "metadata": {},
   "outputs": [],
   "source": [
    "params = {'csv': csv_url}\n",
    "encoded_url = f\"https://{github_username}.github.io/cheapandfair-template/chart.html?\" + urlencode(params)\n",
    "print(encoded_url)"
   ]
  },
  {
   "cell_type": "code",
   "execution_count": null,
   "metadata": {},
   "outputs": [],
   "source": []
  }
 ],
 "metadata": {
  "kernelspec": {
   "display_name": "Python 3 (ipykernel)",
   "language": "python",
   "name": "python3"
  },
  "language_info": {
   "codemirror_mode": {
    "name": "ipython",
    "version": 3
   },
   "file_extension": ".py",
   "mimetype": "text/x-python",
   "name": "python",
   "nbconvert_exporter": "python",
   "pygments_lexer": "ipython3",
   "version": "3.11.5"
  }
 },
 "nbformat": 4,
 "nbformat_minor": 4
}
