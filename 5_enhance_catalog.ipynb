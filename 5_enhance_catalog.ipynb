{
 "cells": [
  {
   "cell_type": "markdown",
   "metadata": {},
   "source": [
    "# Enhancing the catalog\n",
    "\n",
    "The Catalog website is powered by [Jekyll](https://jekyllrb.com/), a static site generator, and uses the [Documentation theme](https://idratherbewriting.com/documentation-theme-jekyll/). Therefore we can customize it just following the linked documentation.\n",
    "\n",
    "## Adding a new page\n",
    "\n",
    "In order to add a new page, we can create a markdown file with specific metadata in the `YAML` header:"
   ]
  },
  {
   "cell_type": "code",
   "execution_count": null,
   "metadata": {},
   "outputs": [],
   "source": [
    "import os\n",
    "current_folder = %pwd\n",
    "if not current_folder.endswith(\"cheapandfair-template\"):\n",
    "    %cd cheapandfair-template"
   ]
  },
  {
   "cell_type": "code",
   "execution_count": null,
   "metadata": {},
   "outputs": [],
   "source": [
    "%%file about.md\n",
    "---\n",
    "title: \"About the Cheap&FAIR data portal\n",
    "author: \"Author Name\"\n",
    "date_created: \"2024-09-25\"\n",
    "---\n",
    "\n",
    "# About the Cheap&FAIR data portal\n",
    "\n",
    "This website is based on a template provided by the \"Cheap&FAIR project\".\n",
    "\n",
    "For more information see the [Cheap&FAIR Github Organization](https://github.com/cheapandfair)."
   ]
  },
  {
   "cell_type": "markdown",
   "metadata": {},
   "source": [
    "Now modify `index.md` and put a link to the new page:\n",
    "\n",
    "```markdown\n",
    "For more information about the project, checkout [About](./about.md)\n",
    "```\n",
    "\n",
    "## Embed a public image from Globus\n",
    "\n",
    "Open `dust-manifest.json` and get the url for one of the jpg images, in the form:\n",
    "\n",
    "`https://g-xxxxx.xxxx.xxxx.data.globus.org/xxxxxxx/dust/dust_353GHz.jpg`\n",
    "\n",
    "Now open `index.md` and add the image:\n",
    "\n",
    "```markdown\n",
    "![Dust emission at 353 GHz](https://g-xxxxx.xxxx.xxxx.data.globus.org/xxxxxxx/dust/dust_353GHz.jpg)\n",
    "```\n",
    "\n",
    "## Programmatically add all images to the dataset pages\n",
    "\n",
    "The `create_markdown.py` script can be customized to have jpg images displayed instead of just linked.\n",
    "\n",
    "Look in the `create_markdown.py` script for the line where `flink` is define and add the following code:\n",
    "\n",
    "```python\n",
    "if flink.endswith(\".jpg)\") and dset in [\"dust\", \"synch\"]:\n",
    "    flink = \"!\" + flink\n",
    "```\n",
    "\n",
    "This way, if a file is in JPG format and belongs to the `dust` or `synch` dataset, it will be displayed as an image."
   ]
  }
 ],
 "metadata": {
  "kernelspec": {
   "display_name": "globus",
   "language": "python",
   "name": "python3"
  },
  "language_info": {
   "codemirror_mode": {
    "name": "ipython",
    "version": 3
   },
   "file_extension": ".py",
   "mimetype": "text/x-python",
   "name": "python",
   "nbconvert_exporter": "python",
   "pygments_lexer": "ipython3",
   "version": "3.11.2"
  }
 },
 "nbformat": 4,
 "nbformat_minor": 2
}
