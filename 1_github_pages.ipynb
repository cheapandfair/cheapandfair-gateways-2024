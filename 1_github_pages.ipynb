{
 "cells": [
  {
   "cell_type": "markdown",
   "metadata": {},
   "source": [
    "# Configure the Github pages repository\n",
    "\n",
    "The static website will be hosted on Github pages and Github will automatically run Jekyll at each commit to transform the input Markdown pages to HTML files.\n",
    "\n",
    "Cheap&FAIR has a Template Github repository that can be used to create the basic structure of the Data Portal website.\n",
    "\n",
    "Login to Github and go to <https://github.com/cheapandfair/cheapandfair-template>\n",
    "\n",
    "Click on the \"Use this template\" button and create a new repository in your account."
   ]
  },
  {
   "cell_type": "markdown",
   "metadata": {},
   "source": [
    "## Configure Github Pages\n",
    "\n",
    "The only steps necessary to configure Github pages is:\n",
    "\n",
    "1. Go to the repository settings\n",
    "2. Scroll down to the Github Pages section\n",
    "3. Select the `main` branch and the `/docs` folder\n",
    "4. Click on the \"Save\" button\n",
    "5. The website will be available in a few minutes at `https://<github_username>.github.io/cheapandfair-template`"
   ]
  },
  {
   "cell_type": "markdown",
   "metadata": {},
   "source": [
    "## Login to Github\n",
    "\n",
    "The quickest way is using the Github-CLI `gh`, however it only works in a terminal.\n",
    "Therefore open a terminal with \"File -> New -> Terminal\" and type:\n",
    "\n",
    "    gh auth login --hostname github.com --git-protocol ssh\n",
    "\n",
    "Follow the instructions to create and upload a SSH key to your account"
   ]
  },
  {
   "cell_type": "markdown",
   "metadata": {},
   "source": [
    "## Clone the repository locally\n",
    "\n",
    "Finally we need to clone the repository locally to be able to edit the files."
   ]
  },
  {
   "cell_type": "code",
   "execution_count": null,
   "metadata": {},
   "outputs": [],
   "source": [
    "!gh repo clone cheapandfair-template"
   ]
  },
  {
   "cell_type": "code",
   "execution_count": null,
   "metadata": {},
   "outputs": [],
   "source": [
    "%ls cheapandfair-template/"
   ]
  }
 ],
 "metadata": {
  "kernelspec": {
   "display_name": "globus",
   "language": "python",
   "name": "python3"
  },
  "language_info": {
   "codemirror_mode": {
    "name": "ipython",
    "version": 3
   },
   "file_extension": ".py",
   "mimetype": "text/x-python",
   "name": "python",
   "nbconvert_exporter": "python",
   "pygments_lexer": "ipython3",
   "version": "3.11.2"
  }
 },
 "nbformat": 4,
 "nbformat_minor": 2
}
