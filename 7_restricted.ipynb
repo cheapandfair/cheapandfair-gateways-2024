{
 "cells": [
  {
   "cell_type": "markdown",
   "id": "0",
   "metadata": {},
   "source": [
    "# Interacting with Restricted Data in the Portal\n",
    "\n",
    "<div>\n",
    "<img alt=\"Screenshot of the Globus landing page\" src=\"./img/access-restricted.png\" style=\"width: 75%; height: 75%\" />\n",
    "</div>\n",
    "\n",
    "Here we demonstrate how to create a page that allows a user to login to Globus and retrieve access tokens to then load restricted data they have access to into their browser. This example uses a single hardcoded CSV file, but it could be extended to be more flexible. Also, the login process could be move to the top level of your catalog so many pages could use the tokens.\n",
    "\n",
    "The page we'll use, `chart-restricted.md` is a modified version of our previous JavaScript plotting example. The login capabilities are built on the [Globus JavaScript SDK](https://globus.github.io/globus-sdk-javascript/)."
   ]
  },
  {
   "cell_type": "code",
   "execution_count": null,
   "id": "1",
   "metadata": {},
   "outputs": [],
   "source": [
    "import os\n",
    "current_folder = %pwd\n",
    "if not current_folder.endswith(\"cheapandfair-template\"):\n",
    "    %cd cheapandfair-template"
   ]
  },
  {
   "cell_type": "code",
   "execution_count": null,
   "id": "2",
   "metadata": {},
   "outputs": [],
   "source": [
    "import toml\n",
    "config = toml.load(\"config.toml\")"
   ]
  },
  {
   "cell_type": "code",
   "execution_count": null,
   "id": "3",
   "metadata": {},
   "outputs": [],
   "source": [
    "import os\n",
    "github_username = os.environ[\"JUPYTERHUB_CLIENT_ID\"].replace(\"jupyterhub-user-\", \"\")"
   ]
  },
  {
   "cell_type": "code",
   "execution_count": null,
   "id": "9ed09924-2d7d-4b90-9eaf-47672db274c4",
   "metadata": {},
   "outputs": [],
   "source": [
    "github_username"
   ]
  },
  {
   "cell_type": "markdown",
   "id": "4",
   "metadata": {},
   "source": [
    "## Registering an OAuth Application\n",
    "\n",
    "To make this page work we'll need to register a client application with Globus Auth. This will allow the page to retrive tokens and user information so visitors to the page can interact with restricted data or call Globus services.\n",
    "\n",
    "You can go directly to the [Globus Developers page under Settings](https://app.globus.org/settings/developers), or navigate to it by going to Settings on the left\n",
    "<div>\n",
    "<img alt=\"Screenshot of the Settings button in the Globus web app\" src=\"./img/settings.png\"/>\n",
    "</div>\n",
    "and then clicking on the \"Developers\" tab.\n",
    "<div>\n",
    "<img alt=\"Screenshot of the Settings page in the Globus web app\" src=\"./img/devs.png\"/>\n",
    "</div>\n",
    "\n",
    "On the Developers tab, click the option to register a thick client. In short, these are applications that run in user space, like apps on a smartphone. You may be prompted to consent again.\n",
    "<div>\n",
    "<img alt=\"Screenshot of the Developers tab in the Globus web app Settings\" src=\"./img/thick-client.png\" />\n",
    "</div>\n",
    "\n",
    "You will need to create a Globus Project, unless you have one for example applications. Give the project a name, provide a contact email address, and click continue.\n",
    "<div>\n",
    "<img alt=\"Screenshot of the Settings page in the Globus web app\" src=\"./img/add-project.png\"  style=\"width: 50%; height: 50%\" />\n",
    "</div>"
   ]
  },
  {
   "cell_type": "markdown",
   "id": "5",
   "metadata": {},
   "source": [
    "### Get the Redirect URL\n",
    "\n",
    "OAuth logins work by redirecting the user to a login page they trust, like their campus SSO or GitHub. After authenticating, Globus Auth will redirect the user's browser back to the application they are trying to login to. This means we need to provide Globus Auth one or more URLs that can be used for redirects. This prevents someone from redirecting a user to a malicious site after they've authenticated and potentially getting their tokens.\n",
    "\n",
    "The next cell will print the URL of the page on your GitHub Pages site which is also the redirect location. "
   ]
  },
  {
   "cell_type": "code",
   "execution_count": null,
   "id": "6",
   "metadata": {},
   "outputs": [],
   "source": [
    "print(f'https://{github_username}.github.io/cheapandfair-template/chart-restricted.html')"
   ]
  },
  {
   "cell_type": "markdown",
   "id": "7",
   "metadata": {},
   "source": [
    "### Register the App\n",
    "\n",
    "On the App Registration page, give your App a name and enter the redirect URL from the previous cell. You don't need to change any other fields.\n",
    "\n",
    "<div>\n",
    "<img alt=\"Screenshot of the Globus Auth app registration page\" src=\"./img/create-app.png\"  style=\"width: 50%; height: 50%\" />\n",
    "</div>\n",
    "\n",
    "### Get App UUID\n",
    "\n",
    "After the App is registered, you'll see its details. Grab the Client UUID and put it in the cell below to update the `config.toml` file.\n",
    "\n",
    "<div>\n",
    "<img alt=\"Screenshot of a Globus Auth App details page\" src=\"./img/app-details.png\" style=\"width: 50%; height: 50%\" />\n",
    "</div>\n"
   ]
  },
  {
   "cell_type": "code",
   "execution_count": null,
   "id": "8",
   "metadata": {},
   "outputs": [],
   "source": [
    "%%file -a config.toml\n",
    "CLIENT='xxxxxxxxxxxxxxxxxxxxxxxxxxxxxxxxxxxx'"
   ]
  },
  {
   "cell_type": "markdown",
   "id": "9",
   "metadata": {},
   "source": [
    "## Updating the Page\n",
    "\n",
    "Now that we have the client application, we can update the Markdown for the page and then our GitHub Pages catalog site.\n",
    "\n",
    "You can open the `chart-restricted.md` page in the Mardown editor [here](cheapandfair-template/chart-restricted.md) or in the file browser on the left.\n",
    "\n",
    "### Linking to Your Group\n",
    "\n",
    "There's a section of text near the top that allows a user to visit your Globus Group and request to join. Find the text near the top with a link to a Globus Group. \n",
    "\n",
    "<div>\n",
    "<img alt=\"Screenshot of the script section of a Markdown file\" src=\"./img/group-url.png\"/>\n",
    "</div>\n",
    "\n",
    "Run the next cell to get the Group UUID and replace the `xxxx...` text in the URL with the UUID."
   ]
  },
  {
   "cell_type": "code",
   "execution_count": null,
   "id": "10",
   "metadata": {},
   "outputs": [],
   "source": [
    "print(config['GROUP'])"
   ]
  },
  {
   "cell_type": "markdown",
   "id": "11",
   "metadata": {},
   "source": [
    "### Setting the Client ID, Data Location, Etc.\n",
    "\n",
    "At the top of the `<script type=\"text/javascript\">` section that makes up most of the file, there are four attributes you need to set:\n",
    "\n",
    "- The UUID of your Collection so a token with the appropriate scope can be retrieved for the user.\n",
    "- The OAuth client ID of your application.\n",
    "- The redirect URL, which is the URL of the page.\n",
    "- The URL of the restricted CSV file.\n",
    "\n",
    "<div>\n",
    "<img alt=\"Screenshot of the script section of a Markdown file\" src=\"./img/update-md.png\"/>\n",
    "</div>\n",
    "\n",
    "The cell below will print out all of the lines so you can copy and paste them into the Markdown file."
   ]
  },
  {
   "cell_type": "code",
   "execution_count": null,
   "id": "36212fd5-4fa1-4d82-a7c7-4d9c22acd7e2",
   "metadata": {},
   "outputs": [],
   "source": [
    "config = toml.load(\"config.toml\")"
   ]
  },
  {
   "cell_type": "code",
   "execution_count": null,
   "id": "12",
   "metadata": {},
   "outputs": [],
   "source": [
    "print(f\"const collection = \\'{config['UUID']}\\'\")\n",
    "print(f\"const client_id = \\'{config['CLIENT']}\\'\")\n",
    "print(f\"const redirect_url = \\'https://{github_username}.github.io/cheapandfair-template/chart-restricted.html\\'\")\n",
    "print(f\"const csv_url = \\'https://{config['DOMAIN']}{config['FOLDER']}cmb_spectra/cls.csv\\'\")"
   ]
  },
  {
   "cell_type": "markdown",
   "id": "13",
   "metadata": {},
   "source": [
    "### Commit the Page and Push"
   ]
  },
  {
   "cell_type": "code",
   "execution_count": null,
   "id": "1084aa1b-eb1c-41fd-b47b-46a7c137f8fb",
   "metadata": {},
   "outputs": [],
   "source": [
    "!git add chart-restricted.md"
   ]
  },
  {
   "cell_type": "code",
   "execution_count": null,
   "id": "5429f116-92a6-4181-89f0-9b5d10f0cc31",
   "metadata": {},
   "outputs": [],
   "source": [
    "!git commit -m \"configure data access for restricted data\""
   ]
  },
  {
   "cell_type": "code",
   "execution_count": null,
   "id": "9827ef2a-fae8-4fb0-a550-5f3433031338",
   "metadata": {},
   "outputs": [],
   "source": [
    "!git push"
   ]
  },
  {
   "cell_type": "markdown",
   "id": "14",
   "metadata": {},
   "source": [
    "## Testing the Page\n",
    "\n",
    "To test the page, evaluate the next cell and click on the link."
   ]
  },
  {
   "cell_type": "code",
   "execution_count": null,
   "id": "15",
   "metadata": {},
   "outputs": [],
   "source": [
    "print(f'https://{github_username}.github.io/cheapandfair-template/chart-restricted.html')"
   ]
  },
  {
   "cell_type": "markdown",
   "id": "16",
   "metadata": {},
   "source": [
    "### Login\n",
    "\n",
    "Click the login button.\n",
    "\n",
    "<div>\n",
    "<img alt=\"Screenshot of the Settings page in the Globus web app\" src=\"./img/page-login.png\"  style=\"width: 50%; height: 50%\" />\n",
    "</div>\n",
    "\n",
    "### No Access\n",
    "\n",
    "Users who don't have access can still login. They'll be prompted to request membership in your Globus Group. Since you own the Group and have access the data, you shouldn't see this.\n",
    "\n",
    "<div>\n",
    "<img alt=\"Screenshot of the Settings page in the Globus web app\" src=\"./img/no-access.png\"  style=\"width: 50%; height: 50%\" />\n",
    "</div>\n",
    "\n",
    "### Success!\n",
    "\n",
    "<div>\n",
    "<img alt=\"Screenshot of the Settings page in the Globus web app\" src=\"./img/restricted-plot.png\"  style=\"width: 50%; height: 50%\" />\n",
    "</div>\n",
    "\n",
    "\n",
    "\n"
   ]
  },
  {
   "cell_type": "code",
   "execution_count": null,
   "id": "17",
   "metadata": {},
   "outputs": [],
   "source": []
  }
 ],
 "metadata": {
  "kernelspec": {
   "display_name": "Python 3 (ipykernel)",
   "language": "python",
   "name": "python3"
  },
  "language_info": {
   "codemirror_mode": {
    "name": "ipython",
    "version": 3
   },
   "file_extension": ".py",
   "mimetype": "text/x-python",
   "name": "python",
   "nbconvert_exporter": "python",
   "pygments_lexer": "ipython3",
   "version": "3.11.5"
  }
 },
 "nbformat": 4,
 "nbformat_minor": 5
}
