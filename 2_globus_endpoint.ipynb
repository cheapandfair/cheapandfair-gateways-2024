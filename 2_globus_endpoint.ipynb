{
 "cells": [
  {
   "cell_type": "markdown",
   "metadata": {},
   "source": [
    "# Configure the Globus Guest Collection Endpoint\n",
    "\n",
    "Each attendee has access to their own Guest Collection, which is a shared endpoint that can be used to host and share data.\n"
   ]
  },
  {
   "cell_type": "markdown",
   "metadata": {},
   "source": [
    "* Explain how to login\n",
    "* Explain how to find the Guest Collection\n",
    "* Explain how to configure permissions on each folder"
   ]
  },
  {
   "cell_type": "code",
   "execution_count": null,
   "metadata": {},
   "outputs": [],
   "source": []
  },
  {
   "cell_type": "markdown",
   "metadata": {},
   "source": [
    "Finally let's save details about the endpoint in a file so that we can use it in the following steps, this includes the Guest Collection UUID, the domain for HTTPS access and the root folder of the datasets relative to the root of the Guest Collection.\n",
    "The file will be used both in bash script and in Python, make sure there are no spaces around the `=` sign:"
   ]
  },
  {
   "cell_type": "code",
   "execution_count": null,
   "metadata": {},
   "outputs": [],
   "source": [
    "%cd cheapandfair-template/"
   ]
  },
  {
   "cell_type": "code",
   "execution_count": null,
   "metadata": {},
   "outputs": [],
   "source": [
    "%%file ENDPOINT.sh\n",
    "UUID='18ed636e-0389-44c3-b533-cb3901dfc60f'\n",
    "FOLDER='data'\n",
    "DOMAIN='g-1926f5.c2d0f8.bd7c.data.globus.org'"
   ]
  }
 ],
 "metadata": {
  "kernelspec": {
   "display_name": "globus",
   "language": "python",
   "name": "python3"
  },
  "language_info": {
   "codemirror_mode": {
    "name": "ipython",
    "version": 3
   },
   "file_extension": ".py",
   "mimetype": "text/x-python",
   "name": "python",
   "nbconvert_exporter": "python",
   "pygments_lexer": "ipython3",
   "version": "3.11.2"
  }
 },
 "nbformat": 4,
 "nbformat_minor": 2
}
